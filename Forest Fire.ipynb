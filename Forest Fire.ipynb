{
 "cells": [
  {
   "cell_type": "markdown",
   "metadata": {},
   "source": [
    "Might need to install \n",
    "\n",
    "pip install -U gif"
   ]
  },
  {
   "cell_type": "code",
   "execution_count": 1,
   "metadata": {},
   "outputs": [
    {
     "name": "stdout",
     "output_type": "stream",
     "text": [
      "Collecting gif\n",
      "  Using cached gif-23.3.0-py3-none-any.whl.metadata (2.9 kB)\n",
      "Requirement already satisfied: matplotlib<4.0,>=3.5 in /opt/conda/lib/python3.11/site-packages (from gif) (3.9.2)\n",
      "Requirement already satisfied: Pillow>=9.1 in /opt/conda/lib/python3.11/site-packages (from gif) (10.4.0)\n",
      "Requirement already satisfied: contourpy>=1.0.1 in /opt/conda/lib/python3.11/site-packages (from matplotlib<4.0,>=3.5->gif) (1.3.0)\n",
      "Requirement already satisfied: cycler>=0.10 in /opt/conda/lib/python3.11/site-packages (from matplotlib<4.0,>=3.5->gif) (0.12.1)\n",
      "Requirement already satisfied: fonttools>=4.22.0 in /opt/conda/lib/python3.11/site-packages (from matplotlib<4.0,>=3.5->gif) (4.54.1)\n",
      "Requirement already satisfied: kiwisolver>=1.3.1 in /opt/conda/lib/python3.11/site-packages (from matplotlib<4.0,>=3.5->gif) (1.4.7)\n",
      "Requirement already satisfied: numpy>=1.23 in /opt/conda/lib/python3.11/site-packages (from matplotlib<4.0,>=3.5->gif) (1.26.4)\n",
      "Requirement already satisfied: packaging>=20.0 in /opt/conda/lib/python3.11/site-packages (from matplotlib<4.0,>=3.5->gif) (24.0)\n",
      "Requirement already satisfied: pyparsing>=2.3.1 in /opt/conda/lib/python3.11/site-packages (from matplotlib<4.0,>=3.5->gif) (3.2.0)\n",
      "Requirement already satisfied: python-dateutil>=2.7 in /opt/conda/lib/python3.11/site-packages (from matplotlib<4.0,>=3.5->gif) (2.9.0)\n",
      "Requirement already satisfied: six>=1.5 in /opt/conda/lib/python3.11/site-packages (from python-dateutil>=2.7->matplotlib<4.0,>=3.5->gif) (1.16.0)\n",
      "Using cached gif-23.3.0-py3-none-any.whl (4.1 kB)\n",
      "Installing collected packages: gif\n",
      "Successfully installed gif-23.3.0\n"
     ]
    }
   ],
   "source": [
    "!pip install -U gif"
   ]
  },
  {
   "cell_type": "code",
   "execution_count": 2,
   "metadata": {},
   "outputs": [
    {
     "name": "stdout",
     "output_type": "stream",
     "text": [
      "1\n"
     ]
    }
   ],
   "source": [
    "#!pip install -U gif\n",
    "import random\n",
    "import numpy as np\n",
    "import pandas as pd\n",
    "import seaborn as sns\n",
    "import matplotlib.pyplot as plt\n",
    "from matplotlib.colors import LinearSegmentedColormap\n",
    "import os\n",
    "import imageio\n",
    "import datetime\n",
    "from PIL import Image, ImageDraw\n",
    "import gif\n",
    "\n",
    "colors = [(1,1,1), (0, 1, 0), (1, 0, 0), (0, 0, 0)]  # White, green, red, black\n",
    "n_bins = [4]  # Discretizes the interpolation into bins \n",
    "cmap_name = 'my_list' \n",
    "cm = LinearSegmentedColormap.from_list(cmap_name, colors, N=4)\n",
    "threshold = 4  # max value\n",
    "\n",
    "\n",
    "grid_height = 80\n",
    "grid_width = 80\n",
    "density_prob = 0.45\n",
    "on_fire = 1\n",
    "frames = []\n",
    "percolated = 0\n",
    "\n",
    "\n",
    "# set up\n",
    "\n",
    "@gif.frame\n",
    "def heat_map_plot(forest, threshold, cm):\n",
    "    plt.imshow(forest, interpolation='nearest', vmax=threshold, cmap=cm)\n",
    "\n",
    "def create_grid(grid_height, grid_width, density_prob):\n",
    "    forest = np.zeros([grid_width, grid_height], dtype=int)\n",
    "   \n",
    "    for i in range(grid_width):\n",
    "        for j in range(grid_height):\n",
    "            tmp = random.random()\n",
    "            if tmp < density_prob:\n",
    "                forest[i,j]=1\n",
    "    \n",
    "    return forest\n",
    "\n",
    "forest = create_grid(grid_width, grid_height, density_prob)\n",
    "\n",
    "fig, ax = plt.subplots()\n",
    "\n",
    "img = heat_map_plot(forest, threshold, cm)\n",
    "plt.show()\n",
    "frames.append(img)\n",
    "\n",
    "#set fire to one side\n",
    "for i in range(grid_width):\n",
    "    if forest[0,i] ==1:\n",
    "        forest[0,i]=2\n",
    "img = heat_map_plot(forest, threshold, cm)\n",
    "plt.show()\n",
    "frames.append(img)\n",
    "\n",
    "\n",
    "#propagate\n",
    "\n",
    "def valid_cells(forest):\n",
    "    '''\n",
    "    Function which get all the coordinates of the grid\n",
    "    :forest: the forest grid\n",
    "    '''\n",
    "    valid_cells = []\n",
    "    for i in range(forest.shape[0]):\n",
    "        for j in range(forest.shape[1]):\n",
    "            valid_cells.append((i,j))\n",
    "    return valid_cells\n",
    "\n",
    "\n",
    "def propagate(forest, on_fire, percolated):\n",
    "    new_forest = forest.copy()\n",
    "    new_on_fire = 0\n",
    "    perco = 0\n",
    "    if percolated == 1:\n",
    "        perco = 1\n",
    "    valid = valid_cells(forest)\n",
    "    \n",
    "    if on_fire:\n",
    "        for i in range(forest.shape[0]):\n",
    "            for j in range(forest.shape[1]):\n",
    "                if forest[i,j]==2:\n",
    "                    new_forest[i,j]=3\n",
    "                    #update neighbours\n",
    "                    X = [-1, -1, 0, 1, 1, 1, 0, -1]\n",
    "                    Y = [0, 1, 1, 1, 0, -1, -1, -1]\n",
    "    \n",
    "                    for k in range(len(X)):\n",
    "                        temp_cell = (i + X[k], j + Y[k])\n",
    "                        if temp_cell in valid and forest[i + X[k],j + Y[k]]==1:\n",
    "                            new_forest[i + X[k],j + Y[k]] = 2\n",
    "                            new_on_fire = 1\n",
    "                            if i + X[k] == grid_height - 1:\n",
    "                                perco = 1\n",
    "               \n",
    "    return new_forest, new_on_fire, perco\n",
    "            \n",
    "while on_fire == 1:\n",
    "    \n",
    "    forest, on_fire, percolated = propagate(forest, on_fire, percolated)\n",
    "\n",
    "    img = heat_map_plot(forest, threshold, cm)\n",
    "    plt.show()\n",
    "    frames.append(img)\n",
    "    \n",
    "print(percolated)\n",
    "\n",
    "#gif.save(frames, \"My_forest_fire_1.gif\", duration=1)"
   ]
  },
  {
   "cell_type": "code",
   "execution_count": 3,
   "metadata": {},
   "outputs": [],
   "source": [
    "gif.save(frames, \"My_forest_fire_1.gif\", duration=1)"
   ]
  },
  {
   "cell_type": "code",
   "execution_count": null,
   "metadata": {},
   "outputs": [],
   "source": []
  },
  {
   "cell_type": "code",
   "execution_count": null,
   "metadata": {},
   "outputs": [],
   "source": []
  },
  {
   "cell_type": "code",
   "execution_count": null,
   "metadata": {},
   "outputs": [],
   "source": []
  },
  {
   "cell_type": "code",
   "execution_count": null,
   "metadata": {},
   "outputs": [],
   "source": []
  },
  {
   "cell_type": "code",
   "execution_count": 12,
   "metadata": {},
   "outputs": [],
   "source": []
  },
  {
   "cell_type": "code",
   "execution_count": null,
   "metadata": {},
   "outputs": [],
   "source": []
  }
 ],
 "metadata": {
  "kernelspec": {
   "display_name": "Python 3 (ipykernel)",
   "language": "python",
   "name": "python3"
  },
  "language_info": {
   "codemirror_mode": {
    "name": "ipython",
    "version": 3
   },
   "file_extension": ".py",
   "mimetype": "text/x-python",
   "name": "python",
   "nbconvert_exporter": "python",
   "pygments_lexer": "ipython3",
   "version": "3.11.9"
  }
 },
 "nbformat": 4,
 "nbformat_minor": 4
}
